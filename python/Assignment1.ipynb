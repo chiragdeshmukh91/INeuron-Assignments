{
 "cells": [
  {
   "cell_type": "code",
   "execution_count": null,
   "id": "4284c3d2",
   "metadata": {},
   "outputs": [],
   "source": [
    "1. In the below elements which of them are values or an expression? eg:- values can be integer or string and expressions will be mathematical operators.\n",
    "* \n",
    "'hello'\n",
    "-87.8\n",
    "- \n",
    "/ \n",
    "+\n",
    "6 \n",
    "\n",
    "Answer 1. The values and expressions are segregated as below:\n",
    "Values: 'hello', -87.8, 6\n",
    "Expressions: *, -, /, +\n"
   ]
  },
  {
   "cell_type": "code",
   "execution_count": null,
   "id": "c93449ad",
   "metadata": {},
   "outputs": [],
   "source": [
    "2. What is the difference between string and variable?\n",
    "Answer 2. A variable is container which can be used to store data. A variable can be of different data types and can be changed after set initially.\n",
    "While string is one of the data type that can be stored inside the variable. String is enclosed inside \" \". The string values cannot be updated once set."
   ]
  },
  {
   "cell_type": "code",
   "execution_count": null,
   "id": "c5c81744",
   "metadata": {},
   "outputs": [],
   "source": [
    "3. Describe three different data types.\n",
    "Answer 3. Below are three different data types:\n",
    "    Integer data type - The integer data type belongs to the built-in class 'int' in Python. It is used to store positive or negative whole numbers.\n",
    "    Example : a = 4, the typ(a) is < class 'int'>\n",
    "    Float data type - The float data type belongs to the built-in class 'float' in Python. It represents real numbers with decimal points.\n",
    "    Example : f = 2.356, the typ(f) is < class 'float'>\n",
    "    String data type - The string data type belongs to the built-in class 'str' in Python. String is an array of one of more characters.\n",
    "    Strings are represented in either single or double quotes.\n",
    "    Example : s = \"chirag\", the typ(s) is < class 'str'>"
   ]
  },
  {
   "cell_type": "code",
   "execution_count": null,
   "id": "953bb97d",
   "metadata": {},
   "outputs": [],
   "source": [
    "4. What is an expression made up of? What do all expressions do?\n",
    "Answer 4 - An expression is made up on operators and operands. They used to evaluate a single value or result.\n",
    "For example, 2 + 5 is an expression which gives the output as 7."
   ]
  },
  {
   "cell_type": "code",
   "execution_count": null,
   "id": "0a0a1475",
   "metadata": {},
   "outputs": [],
   "source": [
    "5. This assignment statements, like spam = 10. What is the difference between an expression and a statement?\n",
    "Answer 5. The statement spam = 10 indicates that integer value of 10 is assigned to a varaible named spam.\n",
    "An expression is always used to evaluate an output value. A statement is just an instruction for intepretor to execute"
   ]
  },
  {
   "cell_type": "code",
   "execution_count": null,
   "id": "c24611f4",
   "metadata": {},
   "outputs": [],
   "source": [
    "6. After running the following code, what does the variable bacon contain?\n",
    "bacon = 22\n",
    "bacon + 1\n",
    "Answer 6 - After running the code, the variable bacon contains 22. This is because, bacon + 1 is just an expression, and its output (23) is not reassigned to bacon.\n",
    "Hence, bacon will be still 22."
   ]
  },
  {
   "cell_type": "code",
   "execution_count": null,
   "id": "389dcec2",
   "metadata": {},
   "outputs": [],
   "source": [
    "7. What should the values of the following two terms be?\n",
    "'spam' + 'spamspam'\n",
    "'spam' * 3\n",
    "Answer 7. The values of both the terms is 'spamspamspam'.\n",
    "Expression 1 follows string concatenation while Expression 2 follows multiplication of strings."
   ]
  },
  {
   "cell_type": "code",
   "execution_count": null,
   "id": "0f617f2c",
   "metadata": {},
   "outputs": [],
   "source": [
    "8. Why is eggs a valid variable name while 100 is invalid?\n",
    "Answer 8. eggs is a valid variable name because it starts with a letter while 100 is invalid because it starts with a number.\n",
    "In Python, a varaible can never start with a number."
   ]
  },
  {
   "cell_type": "code",
   "execution_count": null,
   "id": "8fbb312e",
   "metadata": {},
   "outputs": [],
   "source": [
    "9. What three functions can be used to get the integer, floating-point number, or string version of a value?\n",
    "Answer 9. To get the interger version of a value, int() function is used\n",
    "To get the float version of a value, float() function is used\n",
    "To get the string version of a value, str() function is used"
   ]
  },
  {
   "cell_type": "code",
   "execution_count": null,
   "id": "411ece99",
   "metadata": {},
   "outputs": [],
   "source": [
    "10. Why does this expression cause an error? How can you fix it?\n",
    "'I have eaten ' + 99 + ' burritos.'\n",
    "Answer 10. This expression causes an error because 99 is an integer here and not a string.\n",
    "It must be first converted to string using typecasting in order to get rid of the error.\n",
    "The correct expression is 'I have eaten ' + str(99) + ' burritos.'"
   ]
  }
 ],
 "metadata": {
  "kernelspec": {
   "display_name": "Python 3 (ipykernel)",
   "language": "python",
   "name": "python3"
  },
  "language_info": {
   "codemirror_mode": {
    "name": "ipython",
    "version": 3
   },
   "file_extension": ".py",
   "mimetype": "text/x-python",
   "name": "python",
   "nbconvert_exporter": "python",
   "pygments_lexer": "ipython3",
   "version": "3.9.7"
  }
 },
 "nbformat": 4,
 "nbformat_minor": 5
}
